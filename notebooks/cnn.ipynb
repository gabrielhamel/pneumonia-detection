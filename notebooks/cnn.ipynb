{
 "metadata": {
  "language_info": {
   "codemirror_mode": {
    "name": "ipython",
    "version": 3
   },
   "file_extension": ".py",
   "mimetype": "text/x-python",
   "name": "python",
   "nbconvert_exporter": "python",
   "pygments_lexer": "ipython3",
   "version": "3.8.2"
  },
  "orig_nbformat": 2,
  "kernelspec": {
   "name": "pythonjvsc74a57bd01eee70a0168bcf1a9fadbf77c2dfbe20cd3422c5e916c79f2f7b2ea9c86b4aca",
   "display_name": "Python 3.8.2  ('env': venv)"
  },
  "metadata": {
   "interpreter": {
    "hash": "1eee70a0168bcf1a9fadbf77c2dfbe20cd3422c5e916c79f2f7b2ea9c86b4aca"
   }
  }
 },
 "nbformat": 4,
 "nbformat_minor": 2,
 "cells": [
  {
   "source": [
    "# Convolutional neural network"
   ],
   "cell_type": "markdown",
   "metadata": {}
  },
  {
   "cell_type": "code",
   "execution_count": 2,
   "metadata": {},
   "outputs": [],
   "source": [
    "import h5py # Load the dataset\n",
    "import matplotlib.pyplot as plt # Draw graphics\n",
    "import numpy as np # Manage array and data\n",
    "from tensorflow.keras import layers, models, losses # Tools to build model"
   ]
  },
  {
   "source": [
    "## Dataset loading\n",
    "Load previous generated, optimized dataset. The dataset are already training data, and testing data. We doesn't need to split them.\n",
    "These images are already shuffle to avoid training reccurency.\n",
    "We clone array into a numpy array because h5py objects doesn't have some iterators."
   ],
   "cell_type": "markdown",
   "metadata": {}
  },
  {
   "cell_type": "code",
   "execution_count": 3,
   "metadata": {
    "tags": []
   },
   "outputs": [],
   "source": [
    "f = h5py.File(\"../dataset.hdf5\", \"r\")\n",
    "\n",
    "train_images = np.copy(f.get('train').get('images'))\n",
    "train_labels = np.copy(f.get('train').get('labels'))\n",
    "test_images = np.copy(f.get('test').get('images'))\n",
    "test_labels = np.copy(f.get('test').get('labels'))\n",
    "\n",
    "width, height = f.get('shape') # Images size\n",
    "\n",
    "f.close()"
   ]
  },
  {
   "source": [
    "## Model design\n",
    "\n",
    "Convolution -> Max pooling -> Convolution"
   ],
   "cell_type": "markdown",
   "metadata": {}
  },
  {
   "cell_type": "code",
   "execution_count": 4,
   "metadata": {},
   "outputs": [],
   "source": [
    "model = models.Sequential()\n",
    "model.add(layers.Conv2D(32, (3, 3), activation='relu', input_shape=(width, height, 1))) # Convolution layer\n",
    "model.add(layers.Dropout(0.2))\n",
    "model.add(layers.MaxPool2D((4, 4))) # Max pooling layer\n",
    "model.add(layers.Dropout(0.2))\n",
    "model.add(layers.Conv2D(64, (3, 3), activation='relu')) # Convolution layer\n",
    "\n",
    "model.add(layers.Flatten())\n",
    "model.add(layers.Dropout(0.2))\n",
    "model.add(layers.Dense(64, activation='relu'))\n",
    "model.add(layers.Dense(3))"
   ]
  },
  {
   "source": [
    "## Model training"
   ],
   "cell_type": "markdown",
   "metadata": {}
  },
  {
   "cell_type": "code",
   "execution_count": 5,
   "metadata": {},
   "outputs": [
    {
     "output_type": "stream",
     "name": "stdout",
     "text": [
      "Epoch 1/50\n",
      "163/163 [==============================] - 3s 14ms/step - loss: 0.9046 - accuracy: 0.5776 - val_loss: 0.6807 - val_accuracy: 0.7090\n",
      "Epoch 2/50\n",
      "163/163 [==============================] - 2s 10ms/step - loss: 0.6636 - accuracy: 0.7056 - val_loss: 0.5956 - val_accuracy: 0.7496\n",
      "Epoch 3/50\n",
      "163/163 [==============================] - 2s 10ms/step - loss: 0.5946 - accuracy: 0.7304 - val_loss: 0.5628 - val_accuracy: 0.7628\n",
      "Epoch 4/50\n",
      "163/163 [==============================] - 2s 10ms/step - loss: 0.5589 - accuracy: 0.7546 - val_loss: 0.5382 - val_accuracy: 0.7573\n",
      "Epoch 5/50\n",
      "163/163 [==============================] - 2s 10ms/step - loss: 0.5463 - accuracy: 0.7518 - val_loss: 0.5278 - val_accuracy: 0.7571\n",
      "Epoch 6/50\n",
      "163/163 [==============================] - 2s 10ms/step - loss: 0.5320 - accuracy: 0.7631 - val_loss: 0.5086 - val_accuracy: 0.7880\n",
      "Epoch 7/50\n",
      "163/163 [==============================] - 2s 10ms/step - loss: 0.5190 - accuracy: 0.7688 - val_loss: 0.4871 - val_accuracy: 0.7981\n",
      "Epoch 8/50\n",
      "163/163 [==============================] - 2s 10ms/step - loss: 0.5079 - accuracy: 0.7702 - val_loss: 0.4659 - val_accuracy: 0.7949\n",
      "Epoch 9/50\n",
      "163/163 [==============================] - 2s 10ms/step - loss: 0.4726 - accuracy: 0.7940 - val_loss: 0.4891 - val_accuracy: 0.7985\n",
      "Epoch 10/50\n",
      "163/163 [==============================] - 2s 11ms/step - loss: 0.4870 - accuracy: 0.7858 - val_loss: 0.4634 - val_accuracy: 0.8044\n",
      "Epoch 11/50\n",
      "163/163 [==============================] - 2s 12ms/step - loss: 0.4900 - accuracy: 0.7822 - val_loss: 0.4653 - val_accuracy: 0.7964\n",
      "Epoch 12/50\n",
      "163/163 [==============================] - 2s 11ms/step - loss: 0.4749 - accuracy: 0.7923 - val_loss: 0.4488 - val_accuracy: 0.8098\n",
      "Epoch 13/50\n",
      "163/163 [==============================] - 2s 12ms/step - loss: 0.4618 - accuracy: 0.7969 - val_loss: 0.4322 - val_accuracy: 0.8123\n",
      "Epoch 14/50\n",
      "163/163 [==============================] - 2s 11ms/step - loss: 0.4658 - accuracy: 0.7984 - val_loss: 0.4336 - val_accuracy: 0.8144\n",
      "Epoch 15/50\n",
      "163/163 [==============================] - 2s 12ms/step - loss: 0.4367 - accuracy: 0.8037 - val_loss: 0.4471 - val_accuracy: 0.8190\n",
      "Epoch 16/50\n",
      "163/163 [==============================] - 2s 11ms/step - loss: 0.4475 - accuracy: 0.8032 - val_loss: 0.4360 - val_accuracy: 0.8196\n",
      "Epoch 17/50\n",
      "163/163 [==============================] - 2s 12ms/step - loss: 0.4467 - accuracy: 0.8071 - val_loss: 0.4026 - val_accuracy: 0.8265\n",
      "Epoch 18/50\n",
      "163/163 [==============================] - 2s 11ms/step - loss: 0.4267 - accuracy: 0.8124 - val_loss: 0.4025 - val_accuracy: 0.8286\n",
      "Epoch 19/50\n",
      "163/163 [==============================] - 2s 11ms/step - loss: 0.4301 - accuracy: 0.8085 - val_loss: 0.4125 - val_accuracy: 0.8215\n",
      "Epoch 20/50\n",
      "163/163 [==============================] - 2s 11ms/step - loss: 0.4336 - accuracy: 0.8070 - val_loss: 0.4012 - val_accuracy: 0.8391\n",
      "Epoch 21/50\n",
      "163/163 [==============================] - 2s 10ms/step - loss: 0.4250 - accuracy: 0.8119 - val_loss: 0.3998 - val_accuracy: 0.8405\n",
      "Epoch 22/50\n",
      "163/163 [==============================] - 2s 11ms/step - loss: 0.4276 - accuracy: 0.8018 - val_loss: 0.3921 - val_accuracy: 0.8428\n",
      "Epoch 23/50\n",
      "163/163 [==============================] - 2s 10ms/step - loss: 0.4163 - accuracy: 0.8178 - val_loss: 0.3871 - val_accuracy: 0.8353\n",
      "Epoch 24/50\n",
      "163/163 [==============================] - 2s 11ms/step - loss: 0.4296 - accuracy: 0.8146 - val_loss: 0.3769 - val_accuracy: 0.8453\n",
      "Epoch 25/50\n",
      "163/163 [==============================] - 2s 11ms/step - loss: 0.3882 - accuracy: 0.8273 - val_loss: 0.3651 - val_accuracy: 0.8487\n",
      "Epoch 26/50\n",
      "163/163 [==============================] - 2s 11ms/step - loss: 0.4017 - accuracy: 0.8204 - val_loss: 0.3835 - val_accuracy: 0.8414\n",
      "Epoch 27/50\n",
      "163/163 [==============================] - 2s 10ms/step - loss: 0.4044 - accuracy: 0.8269 - val_loss: 0.3624 - val_accuracy: 0.8484\n",
      "Epoch 28/50\n",
      "163/163 [==============================] - 2s 11ms/step - loss: 0.4015 - accuracy: 0.8263 - val_loss: 0.3580 - val_accuracy: 0.8518\n",
      "Epoch 29/50\n",
      "163/163 [==============================] - 2s 11ms/step - loss: 0.3743 - accuracy: 0.8402 - val_loss: 0.3458 - val_accuracy: 0.8541\n",
      "Epoch 30/50\n",
      "163/163 [==============================] - 2s 11ms/step - loss: 0.3999 - accuracy: 0.8344 - val_loss: 0.3454 - val_accuracy: 0.8558\n",
      "Epoch 31/50\n",
      "163/163 [==============================] - 2s 11ms/step - loss: 0.3777 - accuracy: 0.8379 - val_loss: 0.3533 - val_accuracy: 0.8447\n",
      "Epoch 32/50\n",
      "163/163 [==============================] - 2s 11ms/step - loss: 0.3813 - accuracy: 0.8341 - val_loss: 0.3423 - val_accuracy: 0.8587\n",
      "Epoch 33/50\n",
      "163/163 [==============================] - 2s 12ms/step - loss: 0.3690 - accuracy: 0.8397 - val_loss: 0.3352 - val_accuracy: 0.8652\n",
      "Epoch 34/50\n",
      "163/163 [==============================] - 2s 12ms/step - loss: 0.3790 - accuracy: 0.8445 - val_loss: 0.3252 - val_accuracy: 0.8677\n",
      "Epoch 35/50\n",
      "163/163 [==============================] - 2s 13ms/step - loss: 0.3805 - accuracy: 0.8311 - val_loss: 0.3246 - val_accuracy: 0.8643\n",
      "Epoch 36/50\n",
      "163/163 [==============================] - 2s 11ms/step - loss: 0.3620 - accuracy: 0.8440 - val_loss: 0.3228 - val_accuracy: 0.8631\n",
      "Epoch 37/50\n",
      "163/163 [==============================] - 2s 11ms/step - loss: 0.3792 - accuracy: 0.8341 - val_loss: 0.3186 - val_accuracy: 0.8675\n",
      "Epoch 38/50\n",
      "163/163 [==============================] - 2s 11ms/step - loss: 0.3665 - accuracy: 0.8428 - val_loss: 0.3080 - val_accuracy: 0.8771\n",
      "Epoch 39/50\n",
      "163/163 [==============================] - 2s 11ms/step - loss: 0.3559 - accuracy: 0.8467 - val_loss: 0.3191 - val_accuracy: 0.8658\n",
      "Epoch 40/50\n",
      "163/163 [==============================] - 2s 11ms/step - loss: 0.3600 - accuracy: 0.8453 - val_loss: 0.3057 - val_accuracy: 0.8746\n",
      "Epoch 41/50\n",
      "163/163 [==============================] - 2s 12ms/step - loss: 0.3345 - accuracy: 0.8577 - val_loss: 0.2915 - val_accuracy: 0.8840\n",
      "Epoch 42/50\n",
      "163/163 [==============================] - 2s 12ms/step - loss: 0.3379 - accuracy: 0.8521 - val_loss: 0.3058 - val_accuracy: 0.8717\n",
      "Epoch 43/50\n",
      "163/163 [==============================] - 2s 11ms/step - loss: 0.3342 - accuracy: 0.8544 - val_loss: 0.2945 - val_accuracy: 0.8781\n",
      "Epoch 44/50\n",
      "163/163 [==============================] - 2s 11ms/step - loss: 0.3374 - accuracy: 0.8540 - val_loss: 0.2893 - val_accuracy: 0.8783\n",
      "Epoch 45/50\n",
      "163/163 [==============================] - 2s 12ms/step - loss: 0.3289 - accuracy: 0.8593 - val_loss: 0.2884 - val_accuracy: 0.8850\n",
      "Epoch 46/50\n",
      "163/163 [==============================] - 2s 13ms/step - loss: 0.3235 - accuracy: 0.8639 - val_loss: 0.2852 - val_accuracy: 0.8815\n",
      "Epoch 47/50\n",
      "163/163 [==============================] - 2s 11ms/step - loss: 0.3374 - accuracy: 0.8484 - val_loss: 0.2704 - val_accuracy: 0.8865\n",
      "Epoch 48/50\n",
      "163/163 [==============================] - 2s 10ms/step - loss: 0.3382 - accuracy: 0.8536 - val_loss: 0.2743 - val_accuracy: 0.8959\n",
      "Epoch 49/50\n",
      "163/163 [==============================] - 2s 11ms/step - loss: 0.3470 - accuracy: 0.8543 - val_loss: 0.2765 - val_accuracy: 0.8886\n",
      "Epoch 50/50\n",
      "163/163 [==============================] - 2s 11ms/step - loss: 0.3250 - accuracy: 0.8646 - val_loss: 0.2673 - val_accuracy: 0.8921\n"
     ]
    }
   ],
   "source": [
    "model.compile(optimizer='adam',\n",
    "              loss=losses.SparseCategoricalCrossentropy(from_logits=True),\n",
    "              metrics=['accuracy'])\n",
    "\n",
    "history = model.fit(train_images, train_labels, epochs=50,\n",
    "                    validation_data=(test_images, test_labels))"
   ]
  },
  {
   "source": [
    "### Save previously trained model"
   ],
   "cell_type": "markdown",
   "metadata": {}
  },
  {
   "cell_type": "code",
   "execution_count": 9,
   "metadata": {},
   "outputs": [
    {
     "output_type": "stream",
     "name": "stdout",
     "text": [
      "INFO:tensorflow:Assets written to: ../model/cnn/all/assets\n"
     ]
    }
   ],
   "source": [
    "model.save(\"../model/cnn/all\")"
   ]
  },
  {
   "source": [
    "## Training statistics"
   ],
   "cell_type": "markdown",
   "metadata": {}
  },
  {
   "cell_type": "code",
   "execution_count": 8,
   "metadata": {},
   "outputs": [
    {
     "output_type": "stream",
     "name": "stdout",
     "text": [
      "163/163 - 0s - loss: 0.0437 - accuracy: 0.9852\n"
     ]
    },
    {
     "output_type": "display_data",
     "data": {
      "text/plain": "<Figure size 432x288 with 1 Axes>",
      "image/svg+xml": "<?xml version=\"1.0\" encoding=\"utf-8\" standalone=\"no\"?>\n<!DOCTYPE svg PUBLIC \"-//W3C//DTD SVG 1.1//EN\"\n  \"http://www.w3.org/Graphics/SVG/1.1/DTD/svg11.dtd\">\n<svg height=\"265.995469pt\" version=\"1.1\" viewBox=\"0 0 385.78125 265.995469\" width=\"385.78125pt\" xmlns=\"http://www.w3.org/2000/svg\" xmlns:xlink=\"http://www.w3.org/1999/xlink\">\n <metadata>\n  <rdf:RDF xmlns:cc=\"http://creativecommons.org/ns#\" xmlns:dc=\"http://purl.org/dc/elements/1.1/\" xmlns:rdf=\"http://www.w3.org/1999/02/22-rdf-syntax-ns#\">\n   <cc:Work>\n    <dc:type rdf:resource=\"http://purl.org/dc/dcmitype/StillImage\"/>\n    <dc:date>2021-04-11T23:06:52.462185</dc:date>\n    <dc:format>image/svg+xml</dc:format>\n    <dc:creator>\n     <cc:Agent>\n      <dc:title>Matplotlib v3.4.1, https://matplotlib.org/</dc:title>\n     </cc:Agent>\n    </dc:creator>\n   </cc:Work>\n  </rdf:RDF>\n </metadata>\n <defs>\n  <style type=\"text/css\">*{stroke-linecap:butt;stroke-linejoin:round;}</style>\n </defs>\n <g id=\"figure_1\">\n  <g id=\"patch_1\">\n   <path d=\"M 0 265.995469 \nL 385.78125 265.995469 \nL 385.78125 0 \nL 0 0 \nz\n\" style=\"fill:none;\"/>\n  </g>\n  <g id=\"axes_1\">\n   <g id=\"patch_2\">\n    <path d=\"M 43.78125 228.439219 \nL 378.58125 228.439219 \nL 378.58125 10.999219 \nL 43.78125 10.999219 \nz\n\" style=\"fill:#ffffff;\"/>\n   </g>\n   <g id=\"matplotlib.axis_1\">\n    <g id=\"xtick_1\">\n     <g id=\"line2d_1\">\n      <defs>\n       <path d=\"M 0 0 \nL 0 3.5 \n\" id=\"m101f11ed5d\" style=\"stroke:#000000;stroke-width:0.8;\"/>\n      </defs>\n      <g>\n       <use style=\"stroke:#000000;stroke-width:0.8;\" x=\"58.999432\" xlink:href=\"#m101f11ed5d\" y=\"228.439219\"/>\n      </g>\n     </g>\n     <g id=\"text_1\">\n      <!-- 0 -->\n      <g transform=\"translate(55.818182 243.037656)scale(0.1 -0.1)\">\n       <defs>\n        <path d=\"M 2034 4250 \nQ 1547 4250 1301 3770 \nQ 1056 3291 1056 2328 \nQ 1056 1369 1301 889 \nQ 1547 409 2034 409 \nQ 2525 409 2770 889 \nQ 3016 1369 3016 2328 \nQ 3016 3291 2770 3770 \nQ 2525 4250 2034 4250 \nz\nM 2034 4750 \nQ 2819 4750 3233 4129 \nQ 3647 3509 3647 2328 \nQ 3647 1150 3233 529 \nQ 2819 -91 2034 -91 \nQ 1250 -91 836 529 \nQ 422 1150 422 2328 \nQ 422 3509 836 4129 \nQ 1250 4750 2034 4750 \nz\n\" id=\"DejaVuSans-30\" transform=\"scale(0.015625)\"/>\n       </defs>\n       <use xlink:href=\"#DejaVuSans-30\"/>\n      </g>\n     </g>\n    </g>\n    <g id=\"xtick_2\">\n     <g id=\"line2d_2\">\n      <g>\n       <use style=\"stroke:#000000;stroke-width:0.8;\" x=\"121.11446\" xlink:href=\"#m101f11ed5d\" y=\"228.439219\"/>\n      </g>\n     </g>\n     <g id=\"text_2\">\n      <!-- 10 -->\n      <g transform=\"translate(114.75196 243.037656)scale(0.1 -0.1)\">\n       <defs>\n        <path d=\"M 794 531 \nL 1825 531 \nL 1825 4091 \nL 703 3866 \nL 703 4441 \nL 1819 4666 \nL 2450 4666 \nL 2450 531 \nL 3481 531 \nL 3481 0 \nL 794 0 \nL 794 531 \nz\n\" id=\"DejaVuSans-31\" transform=\"scale(0.015625)\"/>\n       </defs>\n       <use xlink:href=\"#DejaVuSans-31\"/>\n       <use x=\"63.623047\" xlink:href=\"#DejaVuSans-30\"/>\n      </g>\n     </g>\n    </g>\n    <g id=\"xtick_3\">\n     <g id=\"line2d_3\">\n      <g>\n       <use style=\"stroke:#000000;stroke-width:0.8;\" x=\"183.229487\" xlink:href=\"#m101f11ed5d\" y=\"228.439219\"/>\n      </g>\n     </g>\n     <g id=\"text_3\">\n      <!-- 20 -->\n      <g transform=\"translate(176.866987 243.037656)scale(0.1 -0.1)\">\n       <defs>\n        <path d=\"M 1228 531 \nL 3431 531 \nL 3431 0 \nL 469 0 \nL 469 531 \nQ 828 903 1448 1529 \nQ 2069 2156 2228 2338 \nQ 2531 2678 2651 2914 \nQ 2772 3150 2772 3378 \nQ 2772 3750 2511 3984 \nQ 2250 4219 1831 4219 \nQ 1534 4219 1204 4116 \nQ 875 4013 500 3803 \nL 500 4441 \nQ 881 4594 1212 4672 \nQ 1544 4750 1819 4750 \nQ 2544 4750 2975 4387 \nQ 3406 4025 3406 3419 \nQ 3406 3131 3298 2873 \nQ 3191 2616 2906 2266 \nQ 2828 2175 2409 1742 \nQ 1991 1309 1228 531 \nz\n\" id=\"DejaVuSans-32\" transform=\"scale(0.015625)\"/>\n       </defs>\n       <use xlink:href=\"#DejaVuSans-32\"/>\n       <use x=\"63.623047\" xlink:href=\"#DejaVuSans-30\"/>\n      </g>\n     </g>\n    </g>\n    <g id=\"xtick_4\">\n     <g id=\"line2d_4\">\n      <g>\n       <use style=\"stroke:#000000;stroke-width:0.8;\" x=\"245.344515\" xlink:href=\"#m101f11ed5d\" y=\"228.439219\"/>\n      </g>\n     </g>\n     <g id=\"text_4\">\n      <!-- 30 -->\n      <g transform=\"translate(238.982015 243.037656)scale(0.1 -0.1)\">\n       <defs>\n        <path d=\"M 2597 2516 \nQ 3050 2419 3304 2112 \nQ 3559 1806 3559 1356 \nQ 3559 666 3084 287 \nQ 2609 -91 1734 -91 \nQ 1441 -91 1130 -33 \nQ 819 25 488 141 \nL 488 750 \nQ 750 597 1062 519 \nQ 1375 441 1716 441 \nQ 2309 441 2620 675 \nQ 2931 909 2931 1356 \nQ 2931 1769 2642 2001 \nQ 2353 2234 1838 2234 \nL 1294 2234 \nL 1294 2753 \nL 1863 2753 \nQ 2328 2753 2575 2939 \nQ 2822 3125 2822 3475 \nQ 2822 3834 2567 4026 \nQ 2313 4219 1838 4219 \nQ 1578 4219 1281 4162 \nQ 984 4106 628 3988 \nL 628 4550 \nQ 988 4650 1302 4700 \nQ 1616 4750 1894 4750 \nQ 2613 4750 3031 4423 \nQ 3450 4097 3450 3541 \nQ 3450 3153 3228 2886 \nQ 3006 2619 2597 2516 \nz\n\" id=\"DejaVuSans-33\" transform=\"scale(0.015625)\"/>\n       </defs>\n       <use xlink:href=\"#DejaVuSans-33\"/>\n       <use x=\"63.623047\" xlink:href=\"#DejaVuSans-30\"/>\n      </g>\n     </g>\n    </g>\n    <g id=\"xtick_5\">\n     <g id=\"line2d_5\">\n      <g>\n       <use style=\"stroke:#000000;stroke-width:0.8;\" x=\"307.459543\" xlink:href=\"#m101f11ed5d\" y=\"228.439219\"/>\n      </g>\n     </g>\n     <g id=\"text_5\">\n      <!-- 40 -->\n      <g transform=\"translate(301.097043 243.037656)scale(0.1 -0.1)\">\n       <defs>\n        <path d=\"M 2419 4116 \nL 825 1625 \nL 2419 1625 \nL 2419 4116 \nz\nM 2253 4666 \nL 3047 4666 \nL 3047 1625 \nL 3713 1625 \nL 3713 1100 \nL 3047 1100 \nL 3047 0 \nL 2419 0 \nL 2419 1100 \nL 313 1100 \nL 313 1709 \nL 2253 4666 \nz\n\" id=\"DejaVuSans-34\" transform=\"scale(0.015625)\"/>\n       </defs>\n       <use xlink:href=\"#DejaVuSans-34\"/>\n       <use x=\"63.623047\" xlink:href=\"#DejaVuSans-30\"/>\n      </g>\n     </g>\n    </g>\n    <g id=\"xtick_6\">\n     <g id=\"line2d_6\">\n      <g>\n       <use style=\"stroke:#000000;stroke-width:0.8;\" x=\"369.574571\" xlink:href=\"#m101f11ed5d\" y=\"228.439219\"/>\n      </g>\n     </g>\n     <g id=\"text_6\">\n      <!-- 50 -->\n      <g transform=\"translate(363.212071 243.037656)scale(0.1 -0.1)\">\n       <defs>\n        <path d=\"M 691 4666 \nL 3169 4666 \nL 3169 4134 \nL 1269 4134 \nL 1269 2991 \nQ 1406 3038 1543 3061 \nQ 1681 3084 1819 3084 \nQ 2600 3084 3056 2656 \nQ 3513 2228 3513 1497 \nQ 3513 744 3044 326 \nQ 2575 -91 1722 -91 \nQ 1428 -91 1123 -41 \nQ 819 9 494 109 \nL 494 744 \nQ 775 591 1075 516 \nQ 1375 441 1709 441 \nQ 2250 441 2565 725 \nQ 2881 1009 2881 1497 \nQ 2881 1984 2565 2268 \nQ 2250 2553 1709 2553 \nQ 1456 2553 1204 2497 \nQ 953 2441 691 2322 \nL 691 4666 \nz\n\" id=\"DejaVuSans-35\" transform=\"scale(0.015625)\"/>\n       </defs>\n       <use xlink:href=\"#DejaVuSans-35\"/>\n       <use x=\"63.623047\" xlink:href=\"#DejaVuSans-30\"/>\n      </g>\n     </g>\n    </g>\n    <g id=\"text_7\">\n     <!-- Epoch -->\n     <g transform=\"translate(195.870313 256.715781)scale(0.1 -0.1)\">\n      <defs>\n       <path d=\"M 628 4666 \nL 3578 4666 \nL 3578 4134 \nL 1259 4134 \nL 1259 2753 \nL 3481 2753 \nL 3481 2222 \nL 1259 2222 \nL 1259 531 \nL 3634 531 \nL 3634 0 \nL 628 0 \nL 628 4666 \nz\n\" id=\"DejaVuSans-45\" transform=\"scale(0.015625)\"/>\n       <path d=\"M 1159 525 \nL 1159 -1331 \nL 581 -1331 \nL 581 3500 \nL 1159 3500 \nL 1159 2969 \nQ 1341 3281 1617 3432 \nQ 1894 3584 2278 3584 \nQ 2916 3584 3314 3078 \nQ 3713 2572 3713 1747 \nQ 3713 922 3314 415 \nQ 2916 -91 2278 -91 \nQ 1894 -91 1617 61 \nQ 1341 213 1159 525 \nz\nM 3116 1747 \nQ 3116 2381 2855 2742 \nQ 2594 3103 2138 3103 \nQ 1681 3103 1420 2742 \nQ 1159 2381 1159 1747 \nQ 1159 1113 1420 752 \nQ 1681 391 2138 391 \nQ 2594 391 2855 752 \nQ 3116 1113 3116 1747 \nz\n\" id=\"DejaVuSans-70\" transform=\"scale(0.015625)\"/>\n       <path d=\"M 1959 3097 \nQ 1497 3097 1228 2736 \nQ 959 2375 959 1747 \nQ 959 1119 1226 758 \nQ 1494 397 1959 397 \nQ 2419 397 2687 759 \nQ 2956 1122 2956 1747 \nQ 2956 2369 2687 2733 \nQ 2419 3097 1959 3097 \nz\nM 1959 3584 \nQ 2709 3584 3137 3096 \nQ 3566 2609 3566 1747 \nQ 3566 888 3137 398 \nQ 2709 -91 1959 -91 \nQ 1206 -91 779 398 \nQ 353 888 353 1747 \nQ 353 2609 779 3096 \nQ 1206 3584 1959 3584 \nz\n\" id=\"DejaVuSans-6f\" transform=\"scale(0.015625)\"/>\n       <path d=\"M 3122 3366 \nL 3122 2828 \nQ 2878 2963 2633 3030 \nQ 2388 3097 2138 3097 \nQ 1578 3097 1268 2742 \nQ 959 2388 959 1747 \nQ 959 1106 1268 751 \nQ 1578 397 2138 397 \nQ 2388 397 2633 464 \nQ 2878 531 3122 666 \nL 3122 134 \nQ 2881 22 2623 -34 \nQ 2366 -91 2075 -91 \nQ 1284 -91 818 406 \nQ 353 903 353 1747 \nQ 353 2603 823 3093 \nQ 1294 3584 2113 3584 \nQ 2378 3584 2631 3529 \nQ 2884 3475 3122 3366 \nz\n\" id=\"DejaVuSans-63\" transform=\"scale(0.015625)\"/>\n       <path d=\"M 3513 2113 \nL 3513 0 \nL 2938 0 \nL 2938 2094 \nQ 2938 2591 2744 2837 \nQ 2550 3084 2163 3084 \nQ 1697 3084 1428 2787 \nQ 1159 2491 1159 1978 \nL 1159 0 \nL 581 0 \nL 581 4863 \nL 1159 4863 \nL 1159 2956 \nQ 1366 3272 1645 3428 \nQ 1925 3584 2291 3584 \nQ 2894 3584 3203 3211 \nQ 3513 2838 3513 2113 \nz\n\" id=\"DejaVuSans-68\" transform=\"scale(0.015625)\"/>\n      </defs>\n      <use xlink:href=\"#DejaVuSans-45\"/>\n      <use x=\"63.183594\" xlink:href=\"#DejaVuSans-70\"/>\n      <use x=\"126.660156\" xlink:href=\"#DejaVuSans-6f\"/>\n      <use x=\"187.841797\" xlink:href=\"#DejaVuSans-63\"/>\n      <use x=\"242.822266\" xlink:href=\"#DejaVuSans-68\"/>\n     </g>\n    </g>\n   </g>\n   <g id=\"matplotlib.axis_2\">\n    <g id=\"ytick_1\">\n     <g id=\"line2d_7\">\n      <defs>\n       <path d=\"M 0 0 \nL -3.5 0 \n\" id=\"maab9fcd705\" style=\"stroke:#000000;stroke-width:0.8;\"/>\n      </defs>\n      <g>\n       <use style=\"stroke:#000000;stroke-width:0.8;\" x=\"43.78125\" xlink:href=\"#maab9fcd705\" y=\"228.439219\"/>\n      </g>\n     </g>\n     <g id=\"text_8\">\n      <!-- 0.5 -->\n      <g transform=\"translate(20.878125 232.238437)scale(0.1 -0.1)\">\n       <defs>\n        <path d=\"M 684 794 \nL 1344 794 \nL 1344 0 \nL 684 0 \nL 684 794 \nz\n\" id=\"DejaVuSans-2e\" transform=\"scale(0.015625)\"/>\n       </defs>\n       <use xlink:href=\"#DejaVuSans-30\"/>\n       <use x=\"63.623047\" xlink:href=\"#DejaVuSans-2e\"/>\n       <use x=\"95.410156\" xlink:href=\"#DejaVuSans-35\"/>\n      </g>\n     </g>\n    </g>\n    <g id=\"ytick_2\">\n     <g id=\"line2d_8\">\n      <g>\n       <use style=\"stroke:#000000;stroke-width:0.8;\" x=\"43.78125\" xlink:href=\"#maab9fcd705\" y=\"184.951219\"/>\n      </g>\n     </g>\n     <g id=\"text_9\">\n      <!-- 0.6 -->\n      <g transform=\"translate(20.878125 188.750437)scale(0.1 -0.1)\">\n       <defs>\n        <path d=\"M 2113 2584 \nQ 1688 2584 1439 2293 \nQ 1191 2003 1191 1497 \nQ 1191 994 1439 701 \nQ 1688 409 2113 409 \nQ 2538 409 2786 701 \nQ 3034 994 3034 1497 \nQ 3034 2003 2786 2293 \nQ 2538 2584 2113 2584 \nz\nM 3366 4563 \nL 3366 3988 \nQ 3128 4100 2886 4159 \nQ 2644 4219 2406 4219 \nQ 1781 4219 1451 3797 \nQ 1122 3375 1075 2522 \nQ 1259 2794 1537 2939 \nQ 1816 3084 2150 3084 \nQ 2853 3084 3261 2657 \nQ 3669 2231 3669 1497 \nQ 3669 778 3244 343 \nQ 2819 -91 2113 -91 \nQ 1303 -91 875 529 \nQ 447 1150 447 2328 \nQ 447 3434 972 4092 \nQ 1497 4750 2381 4750 \nQ 2619 4750 2861 4703 \nQ 3103 4656 3366 4563 \nz\n\" id=\"DejaVuSans-36\" transform=\"scale(0.015625)\"/>\n       </defs>\n       <use xlink:href=\"#DejaVuSans-30\"/>\n       <use x=\"63.623047\" xlink:href=\"#DejaVuSans-2e\"/>\n       <use x=\"95.410156\" xlink:href=\"#DejaVuSans-36\"/>\n      </g>\n     </g>\n    </g>\n    <g id=\"ytick_3\">\n     <g id=\"line2d_9\">\n      <g>\n       <use style=\"stroke:#000000;stroke-width:0.8;\" x=\"43.78125\" xlink:href=\"#maab9fcd705\" y=\"141.463219\"/>\n      </g>\n     </g>\n     <g id=\"text_10\">\n      <!-- 0.7 -->\n      <g transform=\"translate(20.878125 145.262437)scale(0.1 -0.1)\">\n       <defs>\n        <path d=\"M 525 4666 \nL 3525 4666 \nL 3525 4397 \nL 1831 0 \nL 1172 0 \nL 2766 4134 \nL 525 4134 \nL 525 4666 \nz\n\" id=\"DejaVuSans-37\" transform=\"scale(0.015625)\"/>\n       </defs>\n       <use xlink:href=\"#DejaVuSans-30\"/>\n       <use x=\"63.623047\" xlink:href=\"#DejaVuSans-2e\"/>\n       <use x=\"95.410156\" xlink:href=\"#DejaVuSans-37\"/>\n      </g>\n     </g>\n    </g>\n    <g id=\"ytick_4\">\n     <g id=\"line2d_10\">\n      <g>\n       <use style=\"stroke:#000000;stroke-width:0.8;\" x=\"43.78125\" xlink:href=\"#maab9fcd705\" y=\"97.975219\"/>\n      </g>\n     </g>\n     <g id=\"text_11\">\n      <!-- 0.8 -->\n      <g transform=\"translate(20.878125 101.774437)scale(0.1 -0.1)\">\n       <defs>\n        <path d=\"M 2034 2216 \nQ 1584 2216 1326 1975 \nQ 1069 1734 1069 1313 \nQ 1069 891 1326 650 \nQ 1584 409 2034 409 \nQ 2484 409 2743 651 \nQ 3003 894 3003 1313 \nQ 3003 1734 2745 1975 \nQ 2488 2216 2034 2216 \nz\nM 1403 2484 \nQ 997 2584 770 2862 \nQ 544 3141 544 3541 \nQ 544 4100 942 4425 \nQ 1341 4750 2034 4750 \nQ 2731 4750 3128 4425 \nQ 3525 4100 3525 3541 \nQ 3525 3141 3298 2862 \nQ 3072 2584 2669 2484 \nQ 3125 2378 3379 2068 \nQ 3634 1759 3634 1313 \nQ 3634 634 3220 271 \nQ 2806 -91 2034 -91 \nQ 1263 -91 848 271 \nQ 434 634 434 1313 \nQ 434 1759 690 2068 \nQ 947 2378 1403 2484 \nz\nM 1172 3481 \nQ 1172 3119 1398 2916 \nQ 1625 2713 2034 2713 \nQ 2441 2713 2670 2916 \nQ 2900 3119 2900 3481 \nQ 2900 3844 2670 4047 \nQ 2441 4250 2034 4250 \nQ 1625 4250 1398 4047 \nQ 1172 3844 1172 3481 \nz\n\" id=\"DejaVuSans-38\" transform=\"scale(0.015625)\"/>\n       </defs>\n       <use xlink:href=\"#DejaVuSans-30\"/>\n       <use x=\"63.623047\" xlink:href=\"#DejaVuSans-2e\"/>\n       <use x=\"95.410156\" xlink:href=\"#DejaVuSans-38\"/>\n      </g>\n     </g>\n    </g>\n    <g id=\"ytick_5\">\n     <g id=\"line2d_11\">\n      <g>\n       <use style=\"stroke:#000000;stroke-width:0.8;\" x=\"43.78125\" xlink:href=\"#maab9fcd705\" y=\"54.487219\"/>\n      </g>\n     </g>\n     <g id=\"text_12\">\n      <!-- 0.9 -->\n      <g transform=\"translate(20.878125 58.286437)scale(0.1 -0.1)\">\n       <defs>\n        <path d=\"M 703 97 \nL 703 672 \nQ 941 559 1184 500 \nQ 1428 441 1663 441 \nQ 2288 441 2617 861 \nQ 2947 1281 2994 2138 \nQ 2813 1869 2534 1725 \nQ 2256 1581 1919 1581 \nQ 1219 1581 811 2004 \nQ 403 2428 403 3163 \nQ 403 3881 828 4315 \nQ 1253 4750 1959 4750 \nQ 2769 4750 3195 4129 \nQ 3622 3509 3622 2328 \nQ 3622 1225 3098 567 \nQ 2575 -91 1691 -91 \nQ 1453 -91 1209 -44 \nQ 966 3 703 97 \nz\nM 1959 2075 \nQ 2384 2075 2632 2365 \nQ 2881 2656 2881 3163 \nQ 2881 3666 2632 3958 \nQ 2384 4250 1959 4250 \nQ 1534 4250 1286 3958 \nQ 1038 3666 1038 3163 \nQ 1038 2656 1286 2365 \nQ 1534 2075 1959 2075 \nz\n\" id=\"DejaVuSans-39\" transform=\"scale(0.015625)\"/>\n       </defs>\n       <use xlink:href=\"#DejaVuSans-30\"/>\n       <use x=\"63.623047\" xlink:href=\"#DejaVuSans-2e\"/>\n       <use x=\"95.410156\" xlink:href=\"#DejaVuSans-39\"/>\n      </g>\n     </g>\n    </g>\n    <g id=\"ytick_6\">\n     <g id=\"line2d_12\">\n      <g>\n       <use style=\"stroke:#000000;stroke-width:0.8;\" x=\"43.78125\" xlink:href=\"#maab9fcd705\" y=\"10.999219\"/>\n      </g>\n     </g>\n     <g id=\"text_13\">\n      <!-- 1.0 -->\n      <g transform=\"translate(20.878125 14.798437)scale(0.1 -0.1)\">\n       <use xlink:href=\"#DejaVuSans-31\"/>\n       <use x=\"63.623047\" xlink:href=\"#DejaVuSans-2e\"/>\n       <use x=\"95.410156\" xlink:href=\"#DejaVuSans-30\"/>\n      </g>\n     </g>\n    </g>\n    <g id=\"text_14\">\n     <!-- Accuracy -->\n     <g transform=\"translate(14.798438 142.547344)rotate(-90)scale(0.1 -0.1)\">\n      <defs>\n       <path d=\"M 2188 4044 \nL 1331 1722 \nL 3047 1722 \nL 2188 4044 \nz\nM 1831 4666 \nL 2547 4666 \nL 4325 0 \nL 3669 0 \nL 3244 1197 \nL 1141 1197 \nL 716 0 \nL 50 0 \nL 1831 4666 \nz\n\" id=\"DejaVuSans-41\" transform=\"scale(0.015625)\"/>\n       <path d=\"M 544 1381 \nL 544 3500 \nL 1119 3500 \nL 1119 1403 \nQ 1119 906 1312 657 \nQ 1506 409 1894 409 \nQ 2359 409 2629 706 \nQ 2900 1003 2900 1516 \nL 2900 3500 \nL 3475 3500 \nL 3475 0 \nL 2900 0 \nL 2900 538 \nQ 2691 219 2414 64 \nQ 2138 -91 1772 -91 \nQ 1169 -91 856 284 \nQ 544 659 544 1381 \nz\nM 1991 3584 \nL 1991 3584 \nz\n\" id=\"DejaVuSans-75\" transform=\"scale(0.015625)\"/>\n       <path d=\"M 2631 2963 \nQ 2534 3019 2420 3045 \nQ 2306 3072 2169 3072 \nQ 1681 3072 1420 2755 \nQ 1159 2438 1159 1844 \nL 1159 0 \nL 581 0 \nL 581 3500 \nL 1159 3500 \nL 1159 2956 \nQ 1341 3275 1631 3429 \nQ 1922 3584 2338 3584 \nQ 2397 3584 2469 3576 \nQ 2541 3569 2628 3553 \nL 2631 2963 \nz\n\" id=\"DejaVuSans-72\" transform=\"scale(0.015625)\"/>\n       <path d=\"M 2194 1759 \nQ 1497 1759 1228 1600 \nQ 959 1441 959 1056 \nQ 959 750 1161 570 \nQ 1363 391 1709 391 \nQ 2188 391 2477 730 \nQ 2766 1069 2766 1631 \nL 2766 1759 \nL 2194 1759 \nz\nM 3341 1997 \nL 3341 0 \nL 2766 0 \nL 2766 531 \nQ 2569 213 2275 61 \nQ 1981 -91 1556 -91 \nQ 1019 -91 701 211 \nQ 384 513 384 1019 \nQ 384 1609 779 1909 \nQ 1175 2209 1959 2209 \nL 2766 2209 \nL 2766 2266 \nQ 2766 2663 2505 2880 \nQ 2244 3097 1772 3097 \nQ 1472 3097 1187 3025 \nQ 903 2953 641 2809 \nL 641 3341 \nQ 956 3463 1253 3523 \nQ 1550 3584 1831 3584 \nQ 2591 3584 2966 3190 \nQ 3341 2797 3341 1997 \nz\n\" id=\"DejaVuSans-61\" transform=\"scale(0.015625)\"/>\n       <path d=\"M 2059 -325 \nQ 1816 -950 1584 -1140 \nQ 1353 -1331 966 -1331 \nL 506 -1331 \nL 506 -850 \nL 844 -850 \nQ 1081 -850 1212 -737 \nQ 1344 -625 1503 -206 \nL 1606 56 \nL 191 3500 \nL 800 3500 \nL 1894 763 \nL 2988 3500 \nL 3597 3500 \nL 2059 -325 \nz\n\" id=\"DejaVuSans-79\" transform=\"scale(0.015625)\"/>\n      </defs>\n      <use xlink:href=\"#DejaVuSans-41\"/>\n      <use x=\"66.658203\" xlink:href=\"#DejaVuSans-63\"/>\n      <use x=\"121.638672\" xlink:href=\"#DejaVuSans-63\"/>\n      <use x=\"176.619141\" xlink:href=\"#DejaVuSans-75\"/>\n      <use x=\"239.998047\" xlink:href=\"#DejaVuSans-72\"/>\n      <use x=\"281.111328\" xlink:href=\"#DejaVuSans-61\"/>\n      <use x=\"342.390625\" xlink:href=\"#DejaVuSans-63\"/>\n      <use x=\"397.371094\" xlink:href=\"#DejaVuSans-79\"/>\n     </g>\n    </g>\n   </g>\n   <g id=\"line2d_13\">\n    <path clip-path=\"url(#p2fe07a98fa)\" d=\"M 58.999432 70.361661 \nL 65.210935 67.11007 \nL 71.422437 68.277312 \nL 77.63394 63.024734 \nL 83.845443 63.358231 \nL 90.056946 61.523993 \nL 96.268449 59.606393 \nL 102.479951 56.521551 \nL 108.691454 58.439151 \nL 114.902957 55.354308 \nL 121.11446 54.603951 \nL 127.325962 53.353321 \nL 133.537465 50.852113 \nL 139.748968 50.268478 \nL 145.960471 48.43424 \nL 152.171974 48.767738 \nL 158.383476 45.432785 \nL 164.594979 43.014912 \nL 170.806482 43.681908 \nL 177.017985 38.596078 \nL 183.229487 39.096325 \nL 189.44099 37.929108 \nL 195.652493 36.678478 \nL 201.863996 35.094376 \nL 208.075499 34.343993 \nL 214.287001 32.426393 \nL 220.498504 29.591661 \nL 226.710007 28.424444 \nL 232.92151 27.924198 \nL 239.133013 27.173814 \nL 245.344515 29.675049 \nL 251.556018 25.422963 \nL 257.767521 24.589219 \nL 263.979024 23.672113 \nL 270.190526 24.172359 \nL 276.402029 21.754487 \nL 282.613532 19.08653 \nL 288.825035 18.836393 \nL 295.036538 20.003636 \nL 301.24804 20.253746 \nL 307.459543 21.837874 \nL 313.671046 16.668657 \nL 319.882549 18.252785 \nL 326.094051 20.086997 \nL 332.305554 16.335159 \nL 338.517057 21.087491 \nL 344.72856 14.25081 \nL 350.940063 13.500453 \nL 357.151565 14.334198 \nL 363.363068 14.834444 \n\" style=\"fill:none;stroke:#1f77b4;stroke-linecap:square;stroke-width:1.5;\"/>\n   </g>\n   <g id=\"line2d_14\">\n    <path clip-path=\"url(#p2fe07a98fa)\" d=\"M 58.999432 64.358725 \nL 65.210935 65.942827 \nL 71.422437 59.85653 \nL 77.63394 58.6059 \nL 83.845443 59.523032 \nL 90.056946 57.271908 \nL 96.268449 59.85653 \nL 102.479951 54.7707 \nL 108.691454 50.601976 \nL 114.902957 53.186572 \nL 121.11446 51.102223 \nL 127.325962 43.932044 \nL 133.537465 47.183636 \nL 139.748968 42.68144 \nL 145.960471 43.515159 \nL 152.171974 40.180206 \nL 158.383476 50.101729 \nL 164.594979 39.346461 \nL 170.806482 36.761866 \nL 177.017985 38.26258 \nL 183.229487 34.260632 \nL 189.44099 28.090947 \nL 195.652493 32.593142 \nL 201.863996 27.257202 \nL 208.075499 28.757942 \nL 214.287001 27.84081 \nL 220.498504 25.673074 \nL 226.710007 20.753993 \nL 232.92151 22.338121 \nL 239.133013 32.67653 \nL 245.344515 25.422963 \nL 251.556018 22.087985 \nL 257.767521 22.671619 \nL 263.979024 23.505364 \nL 270.190526 21.25424 \nL 276.402029 16.918793 \nL 282.613532 19.586776 \nL 288.825035 16.16841 \nL 295.036538 24.00561 \nL 301.24804 26.089959 \nL 307.459543 18.419534 \nL 313.671046 15.50144 \nL 319.882549 22.338121 \nL 326.094051 14.167449 \nL 332.305554 17.41904 \nL 338.517057 13.583814 \nL 344.72856 12.75007 \nL 350.940063 13.500453 \nL 357.151565 12.499959 \nL 363.363068 17.41904 \n\" style=\"fill:none;stroke:#ff7f0e;stroke-linecap:square;stroke-width:1.5;\"/>\n   </g>\n   <g id=\"patch_3\">\n    <path d=\"M 43.78125 228.439219 \nL 43.78125 10.999219 \n\" style=\"fill:none;stroke:#000000;stroke-linecap:square;stroke-linejoin:miter;stroke-width:0.8;\"/>\n   </g>\n   <g id=\"patch_4\">\n    <path d=\"M 378.58125 228.439219 \nL 378.58125 10.999219 \n\" style=\"fill:none;stroke:#000000;stroke-linecap:square;stroke-linejoin:miter;stroke-width:0.8;\"/>\n   </g>\n   <g id=\"patch_5\">\n    <path d=\"M 43.78125 228.439219 \nL 378.58125 228.439219 \n\" style=\"fill:none;stroke:#000000;stroke-linecap:square;stroke-linejoin:miter;stroke-width:0.8;\"/>\n   </g>\n   <g id=\"patch_6\">\n    <path d=\"M 43.78125 10.999219 \nL 378.58125 10.999219 \n\" style=\"fill:none;stroke:#000000;stroke-linecap:square;stroke-linejoin:miter;stroke-width:0.8;\"/>\n   </g>\n   <g id=\"legend_1\">\n    <g id=\"patch_7\">\n     <path d=\"M 274.6375 223.439219 \nL 371.58125 223.439219 \nQ 373.58125 223.439219 373.58125 221.439219 \nL 373.58125 192.804844 \nQ 373.58125 190.804844 371.58125 190.804844 \nL 274.6375 190.804844 \nQ 272.6375 190.804844 272.6375 192.804844 \nL 272.6375 221.439219 \nQ 272.6375 223.439219 274.6375 223.439219 \nz\n\" style=\"fill:#ffffff;opacity:0.8;stroke:#cccccc;stroke-linejoin:miter;\"/>\n    </g>\n    <g id=\"line2d_15\">\n     <path d=\"M 276.6375 198.903281 \nL 296.6375 198.903281 \n\" style=\"fill:none;stroke:#1f77b4;stroke-linecap:square;stroke-width:1.5;\"/>\n    </g>\n    <g id=\"line2d_16\"/>\n    <g id=\"text_15\">\n     <!-- accuracy -->\n     <g transform=\"translate(304.6375 202.403281)scale(0.1 -0.1)\">\n      <use xlink:href=\"#DejaVuSans-61\"/>\n      <use x=\"61.279297\" xlink:href=\"#DejaVuSans-63\"/>\n      <use x=\"116.259766\" xlink:href=\"#DejaVuSans-63\"/>\n      <use x=\"171.240234\" xlink:href=\"#DejaVuSans-75\"/>\n      <use x=\"234.619141\" xlink:href=\"#DejaVuSans-72\"/>\n      <use x=\"275.732422\" xlink:href=\"#DejaVuSans-61\"/>\n      <use x=\"337.011719\" xlink:href=\"#DejaVuSans-63\"/>\n      <use x=\"391.992188\" xlink:href=\"#DejaVuSans-79\"/>\n     </g>\n    </g>\n    <g id=\"line2d_17\">\n     <path d=\"M 276.6375 213.581406 \nL 296.6375 213.581406 \n\" style=\"fill:none;stroke:#ff7f0e;stroke-linecap:square;stroke-width:1.5;\"/>\n    </g>\n    <g id=\"line2d_18\"/>\n    <g id=\"text_16\">\n     <!-- val_accuracy -->\n     <g transform=\"translate(304.6375 217.081406)scale(0.1 -0.1)\">\n      <defs>\n       <path d=\"M 191 3500 \nL 800 3500 \nL 1894 563 \nL 2988 3500 \nL 3597 3500 \nL 2284 0 \nL 1503 0 \nL 191 3500 \nz\n\" id=\"DejaVuSans-76\" transform=\"scale(0.015625)\"/>\n       <path d=\"M 603 4863 \nL 1178 4863 \nL 1178 0 \nL 603 0 \nL 603 4863 \nz\n\" id=\"DejaVuSans-6c\" transform=\"scale(0.015625)\"/>\n       <path d=\"M 3263 -1063 \nL 3263 -1509 \nL -63 -1509 \nL -63 -1063 \nL 3263 -1063 \nz\n\" id=\"DejaVuSans-5f\" transform=\"scale(0.015625)\"/>\n      </defs>\n      <use xlink:href=\"#DejaVuSans-76\"/>\n      <use x=\"59.179688\" xlink:href=\"#DejaVuSans-61\"/>\n      <use x=\"120.458984\" xlink:href=\"#DejaVuSans-6c\"/>\n      <use x=\"148.242188\" xlink:href=\"#DejaVuSans-5f\"/>\n      <use x=\"198.242188\" xlink:href=\"#DejaVuSans-61\"/>\n      <use x=\"259.521484\" xlink:href=\"#DejaVuSans-63\"/>\n      <use x=\"314.501953\" xlink:href=\"#DejaVuSans-63\"/>\n      <use x=\"369.482422\" xlink:href=\"#DejaVuSans-75\"/>\n      <use x=\"432.861328\" xlink:href=\"#DejaVuSans-72\"/>\n      <use x=\"473.974609\" xlink:href=\"#DejaVuSans-61\"/>\n      <use x=\"535.253906\" xlink:href=\"#DejaVuSans-63\"/>\n      <use x=\"590.234375\" xlink:href=\"#DejaVuSans-79\"/>\n     </g>\n    </g>\n   </g>\n  </g>\n </g>\n <defs>\n  <clipPath id=\"p2fe07a98fa\">\n   <rect height=\"217.44\" width=\"334.8\" x=\"43.78125\" y=\"10.999219\"/>\n  </clipPath>\n </defs>\n</svg>\n",
      "image/png": "[encoded data removed]"
     },
     "metadata": {
      "needs_background": "light"
     }
    }
   ],
   "source": [
    "plt.plot(history.history['accuracy'], label='accuracy')\n",
    "plt.plot(history.history['val_accuracy'], label = 'val_accuracy')\n",
    "plt.xlabel('Epoch')\n",
    "plt.ylabel('Accuracy')\n",
    "plt.ylim([0.5, 1])\n",
    "plt.legend(loc='lower right')\n",
    "\n",
    "test_loss, test_acc = model.evaluate(test_images,  test_labels, verbose=2)"
   ]
  },
  {
   "cell_type": "code",
   "execution_count": null,
   "metadata": {},
   "outputs": [],
   "source": []
  }
 ]
}