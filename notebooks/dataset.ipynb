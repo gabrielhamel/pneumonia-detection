{
 "cells": [
  {
   "source": [
    "### Import libraries"
   ],
   "cell_type": "markdown",
   "metadata": {}
  },
  {
   "source": [
    "from PIL import Image\n",
    "import numpy as np\n",
    "import os\n",
    "import h5py\n",
    "import matplotlib.pyplot as plt\n",
    "import random\n"
   ],
   "cell_type": "code",
   "metadata": {},
   "execution_count": 1,
   "outputs": []
  },
  {
   "source": [
    "### Add some black lines to fit image in a squared matrix"
   ],
   "cell_type": "markdown",
   "metadata": {}
  },
  {
   "cell_type": "code",
   "execution_count": 2,
   "metadata": {},
   "outputs": [],
   "source": [
    "def expand2square(pil_img, background_color):\n",
    "    width, height = pil_img.size\n",
    "    if width == height:\n",
    "        return pil_img\n",
    "    elif width > height:\n",
    "        result = Image.new(pil_img.mode, (width, width), background_color)\n",
    "        result.paste(pil_img, (0, (width - height) // 2))\n",
    "        return result\n",
    "    else:\n",
    "        result = Image.new(pil_img.mode, (height, height), background_color)\n",
    "        result.paste(pil_img, ((height - width) // 2, 0))\n",
    "        return result\n"
   ]
  },
  {
   "source": [
    "### Open image, resize it, and transform it to a matrix and find the right label"
   ],
   "cell_type": "markdown",
   "metadata": {}
  },
  {
   "cell_type": "code",
   "execution_count": 3,
   "metadata": {},
   "outputs": [],
   "source": [
    "def image_to_matrix(path, size):\n",
    "    image = Image.open(path)\n",
    "    image = image.convert('L')\n",
    "    image = expand2square(image, 0)\n",
    "    image = image.resize((size, size))\n",
    "    array = np.asarray(image) / 255\n",
    "    array = np.reshape(array, (size, size, 1))\n",
    "\n",
    "    # Use path to find the type\n",
    "    type = [0]\n",
    "    if 'bacteria' in path:\n",
    "        type = [1]\n",
    "    elif 'virus' in path:\n",
    "        type = [2]\n",
    "    return type, array"
   ]
  },
  {
   "source": [
    "### Loading functions testing"
   ],
   "cell_type": "markdown",
   "metadata": {}
  },
  {
   "cell_type": "code",
   "execution_count": 5,
   "metadata": {},
   "outputs": [
    {
     "output_type": "execute_result",
     "data": {
      "text/plain": [
       "<matplotlib.image.AxesImage at 0x1166c6eb0>"
      ]
     },
     "metadata": {},
     "execution_count": 5
    },
    {
     "output_type": "display_data",
     "data": {
      "text/plain": "<Figure size 432x288 with 1 Axes>",
      "image/svg+xml": "<?xml version=\"1.0\" encoding=\"utf-8\" standalone=\"no\"?>\n<!DOCTYPE svg PUBLIC \"-//W3C//DTD SVG 1.1//EN\"\n  \"http://www.w3.org/Graphics/SVG/1.1/DTD/svg11.dtd\">\n<svg height=\"248.919844pt\" version=\"1.1\" viewBox=\"0 0 251.565 248.919844\" width=\"251.565pt\" xmlns=\"http://www.w3.org/2000/svg\" xmlns:xlink=\"http://www.w3.org/1999/xlink\">\n <metadata>\n  <rdf:RDF xmlns:cc=\"http://creativecommons.org/ns#\" xmlns:dc=\"http://purl.org/dc/elements/1.1/\" xmlns:rdf=\"http://www.w3.org/1999/02/22-rdf-syntax-ns#\">\n   <cc:Work>\n    <dc:type rdf:resource=\"http://purl.org/dc/dcmitype/StillImage\"/>\n    <dc:date>2021-04-08T15:16:26.676027</dc:date>\n    <dc:format>image/svg+xml</dc:format>\n    <dc:creator>\n     <cc:Agent>\n      <dc:title>Matplotlib v3.4.1, https://matplotlib.org/</dc:title>\n     </cc:Agent>\n    </dc:creator>\n   </cc:Work>\n  </rdf:RDF>\n </metadata>\n <defs>\n  <style type=\"text/css\">*{stroke-linecap:butt;stroke-linejoin:round;}</style>\n </defs>\n <g id=\"figure_1\">\n  <g id=\"patch_1\">\n   <path d=\"M 0 248.919844 \nL 251.565 248.919844 \nL 251.565 0 \nL 0 0 \nz\n\" style=\"fill:none;\"/>\n  </g>\n  <g id=\"axes_1\">\n   <g id=\"patch_2\">\n    <path d=\"M 26.925 225.041719 \nL 244.365 225.041719 \nL 244.365 7.601719 \nL 26.925 7.601719 \nz\n\" style=\"fill:#ffffff;\"/>\n   </g>\n   <g clip-path=\"url(#p20e778042e)\">\n    <image height=\"218\" id=\"imagec2df8ab20b\" transform=\"scale(1 -1)translate(0 -218)\" width=\"218\" x=\"26.925\" xlink:href=\"data:image/png;base64,\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\" y=\"-7.041719\"/>\n   </g>\n   <g id=\"matplotlib.axis_1\">\n    <g id=\"xtick_1\">\n     <g id=\"line2d_1\">\n      <defs>\n       <path d=\"M 0 0 \nL 0 3.5 \n\" id=\"m7e4ccc5404\" style=\"stroke:#000000;stroke-width:0.8;\"/>\n      </defs>\n      <g>\n       <use style=\"stroke:#000000;stroke-width:0.8;\" x=\"30.3225\" xlink:href=\"#m7e4ccc5404\" y=\"225.041719\"/>\n      </g>\n     </g>\n     <g id=\"text_1\">\n      <!-- 0 -->\n      <g transform=\"translate(27.14125 239.640156)scale(0.1 -0.1)\">\n       <defs>\n        <path d=\"M 2034 4250 \nQ 1547 4250 1301 3770 \nQ 1056 3291 1056 2328 \nQ 1056 1369 1301 889 \nQ 1547 409 2034 409 \nQ 2525 409 2770 889 \nQ 3016 1369 3016 2328 \nQ 3016 3291 2770 3770 \nQ 2525 4250 2034 4250 \nz\nM 2034 4750 \nQ 2819 4750 3233 4129 \nQ 3647 3509 3647 2328 \nQ 3647 1150 3233 529 \nQ 2819 -91 2034 -91 \nQ 1250 -91 836 529 \nQ 422 1150 422 2328 \nQ 422 3509 836 4129 \nQ 1250 4750 2034 4750 \nz\n\" id=\"DejaVuSans-30\" transform=\"scale(0.015625)\"/>\n       </defs>\n       <use xlink:href=\"#DejaVuSans-30\"/>\n      </g>\n     </g>\n    </g>\n    <g id=\"xtick_2\">\n     <g id=\"line2d_2\">\n      <g>\n       <use style=\"stroke:#000000;stroke-width:0.8;\" x=\"64.2975\" xlink:href=\"#m7e4ccc5404\" y=\"225.041719\"/>\n      </g>\n     </g>\n     <g id=\"text_2\">\n      <!-- 5 -->\n      <g transform=\"translate(61.11625 239.640156)scale(0.1 -0.1)\">\n       <defs>\n        <path d=\"M 691 4666 \nL 3169 4666 \nL 3169 4134 \nL 1269 4134 \nL 1269 2991 \nQ 1406 3038 1543 3061 \nQ 1681 3084 1819 3084 \nQ 2600 3084 3056 2656 \nQ 3513 2228 3513 1497 \nQ 3513 744 3044 326 \nQ 2575 -91 1722 -91 \nQ 1428 -91 1123 -41 \nQ 819 9 494 109 \nL 494 744 \nQ 775 591 1075 516 \nQ 1375 441 1709 441 \nQ 2250 441 2565 725 \nQ 2881 1009 2881 1497 \nQ 2881 1984 2565 2268 \nQ 2250 2553 1709 2553 \nQ 1456 2553 1204 2497 \nQ 953 2441 691 2322 \nL 691 4666 \nz\n\" id=\"DejaVuSans-35\" transform=\"scale(0.015625)\"/>\n       </defs>\n       <use xlink:href=\"#DejaVuSans-35\"/>\n      </g>\n     </g>\n    </g>\n    <g id=\"xtick_3\">\n     <g id=\"line2d_3\">\n      <g>\n       <use style=\"stroke:#000000;stroke-width:0.8;\" x=\"98.2725\" xlink:href=\"#m7e4ccc5404\" y=\"225.041719\"/>\n      </g>\n     </g>\n     <g id=\"text_3\">\n      <!-- 10 -->\n      <g transform=\"translate(91.91 239.640156)scale(0.1 -0.1)\">\n       <defs>\n        <path d=\"M 794 531 \nL 1825 531 \nL 1825 4091 \nL 703 3866 \nL 703 4441 \nL 1819 4666 \nL 2450 4666 \nL 2450 531 \nL 3481 531 \nL 3481 0 \nL 794 0 \nL 794 531 \nz\n\" id=\"DejaVuSans-31\" transform=\"scale(0.015625)\"/>\n       </defs>\n       <use xlink:href=\"#DejaVuSans-31\"/>\n       <use x=\"63.623047\" xlink:href=\"#DejaVuSans-30\"/>\n      </g>\n     </g>\n    </g>\n    <g id=\"xtick_4\">\n     <g id=\"line2d_4\">\n      <g>\n       <use style=\"stroke:#000000;stroke-width:0.8;\" x=\"132.2475\" xlink:href=\"#m7e4ccc5404\" y=\"225.041719\"/>\n      </g>\n     </g>\n     <g id=\"text_4\">\n      <!-- 15 -->\n      <g transform=\"translate(125.885 239.640156)scale(0.1 -0.1)\">\n       <use xlink:href=\"#DejaVuSans-31\"/>\n       <use x=\"63.623047\" xlink:href=\"#DejaVuSans-35\"/>\n      </g>\n     </g>\n    </g>\n    <g id=\"xtick_5\">\n     <g id=\"line2d_5\">\n      <g>\n       <use style=\"stroke:#000000;stroke-width:0.8;\" x=\"166.2225\" xlink:href=\"#m7e4ccc5404\" y=\"225.041719\"/>\n      </g>\n     </g>\n     <g id=\"text_5\">\n      <!-- 20 -->\n      <g transform=\"translate(159.86 239.640156)scale(0.1 -0.1)\">\n       <defs>\n        <path d=\"M 1228 531 \nL 3431 531 \nL 3431 0 \nL 469 0 \nL 469 531 \nQ 828 903 1448 1529 \nQ 2069 2156 2228 2338 \nQ 2531 2678 2651 2914 \nQ 2772 3150 2772 3378 \nQ 2772 3750 2511 3984 \nQ 2250 4219 1831 4219 \nQ 1534 4219 1204 4116 \nQ 875 4013 500 3803 \nL 500 4441 \nQ 881 4594 1212 4672 \nQ 1544 4750 1819 4750 \nQ 2544 4750 2975 4387 \nQ 3406 4025 3406 3419 \nQ 3406 3131 3298 2873 \nQ 3191 2616 2906 2266 \nQ 2828 2175 2409 1742 \nQ 1991 1309 1228 531 \nz\n\" id=\"DejaVuSans-32\" transform=\"scale(0.015625)\"/>\n       </defs>\n       <use xlink:href=\"#DejaVuSans-32\"/>\n       <use x=\"63.623047\" xlink:href=\"#DejaVuSans-30\"/>\n      </g>\n     </g>\n    </g>\n    <g id=\"xtick_6\">\n     <g id=\"line2d_6\">\n      <g>\n       <use style=\"stroke:#000000;stroke-width:0.8;\" x=\"200.1975\" xlink:href=\"#m7e4ccc5404\" y=\"225.041719\"/>\n      </g>\n     </g>\n     <g id=\"text_6\">\n      <!-- 25 -->\n      <g transform=\"translate(193.835 239.640156)scale(0.1 -0.1)\">\n       <use xlink:href=\"#DejaVuSans-32\"/>\n       <use x=\"63.623047\" xlink:href=\"#DejaVuSans-35\"/>\n      </g>\n     </g>\n    </g>\n    <g id=\"xtick_7\">\n     <g id=\"line2d_7\">\n      <g>\n       <use style=\"stroke:#000000;stroke-width:0.8;\" x=\"234.1725\" xlink:href=\"#m7e4ccc5404\" y=\"225.041719\"/>\n      </g>\n     </g>\n     <g id=\"text_7\">\n      <!-- 30 -->\n      <g transform=\"translate(227.81 239.640156)scale(0.1 -0.1)\">\n       <defs>\n        <path d=\"M 2597 2516 \nQ 3050 2419 3304 2112 \nQ 3559 1806 3559 1356 \nQ 3559 666 3084 287 \nQ 2609 -91 1734 -91 \nQ 1441 -91 1130 -33 \nQ 819 25 488 141 \nL 488 750 \nQ 750 597 1062 519 \nQ 1375 441 1716 441 \nQ 2309 441 2620 675 \nQ 2931 909 2931 1356 \nQ 2931 1769 2642 2001 \nQ 2353 2234 1838 2234 \nL 1294 2234 \nL 1294 2753 \nL 1863 2753 \nQ 2328 2753 2575 2939 \nQ 2822 3125 2822 3475 \nQ 2822 3834 2567 4026 \nQ 2313 4219 1838 4219 \nQ 1578 4219 1281 4162 \nQ 984 4106 628 3988 \nL 628 4550 \nQ 988 4650 1302 4700 \nQ 1616 4750 1894 4750 \nQ 2613 4750 3031 4423 \nQ 3450 4097 3450 3541 \nQ 3450 3153 3228 2886 \nQ 3006 2619 2597 2516 \nz\n\" id=\"DejaVuSans-33\" transform=\"scale(0.015625)\"/>\n       </defs>\n       <use xlink:href=\"#DejaVuSans-33\"/>\n       <use x=\"63.623047\" xlink:href=\"#DejaVuSans-30\"/>\n      </g>\n     </g>\n    </g>\n   </g>\n   <g id=\"matplotlib.axis_2\">\n    <g id=\"ytick_1\">\n     <g id=\"line2d_8\">\n      <defs>\n       <path d=\"M 0 0 \nL -3.5 0 \n\" id=\"m23245771cf\" style=\"stroke:#000000;stroke-width:0.8;\"/>\n      </defs>\n      <g>\n       <use style=\"stroke:#000000;stroke-width:0.8;\" x=\"26.925\" xlink:href=\"#m23245771cf\" y=\"10.999219\"/>\n      </g>\n     </g>\n     <g id=\"text_8\">\n      <!-- 0 -->\n      <g transform=\"translate(13.5625 14.798437)scale(0.1 -0.1)\">\n       <use xlink:href=\"#DejaVuSans-30\"/>\n      </g>\n     </g>\n    </g>\n    <g id=\"ytick_2\">\n     <g id=\"line2d_9\">\n      <g>\n       <use style=\"stroke:#000000;stroke-width:0.8;\" x=\"26.925\" xlink:href=\"#m23245771cf\" y=\"44.974219\"/>\n      </g>\n     </g>\n     <g id=\"text_9\">\n      <!-- 5 -->\n      <g transform=\"translate(13.5625 48.773437)scale(0.1 -0.1)\">\n       <use xlink:href=\"#DejaVuSans-35\"/>\n      </g>\n     </g>\n    </g>\n    <g id=\"ytick_3\">\n     <g id=\"line2d_10\">\n      <g>\n       <use style=\"stroke:#000000;stroke-width:0.8;\" x=\"26.925\" xlink:href=\"#m23245771cf\" y=\"78.949219\"/>\n      </g>\n     </g>\n     <g id=\"text_10\">\n      <!-- 10 -->\n      <g transform=\"translate(7.2 82.748437)scale(0.1 -0.1)\">\n       <use xlink:href=\"#DejaVuSans-31\"/>\n       <use x=\"63.623047\" xlink:href=\"#DejaVuSans-30\"/>\n      </g>\n     </g>\n    </g>\n    <g id=\"ytick_4\">\n     <g id=\"line2d_11\">\n      <g>\n       <use style=\"stroke:#000000;stroke-width:0.8;\" x=\"26.925\" xlink:href=\"#m23245771cf\" y=\"112.924219\"/>\n      </g>\n     </g>\n     <g id=\"text_11\">\n      <!-- 15 -->\n      <g transform=\"translate(7.2 116.723437)scale(0.1 -0.1)\">\n       <use xlink:href=\"#DejaVuSans-31\"/>\n       <use x=\"63.623047\" xlink:href=\"#DejaVuSans-35\"/>\n      </g>\n     </g>\n    </g>\n    <g id=\"ytick_5\">\n     <g id=\"line2d_12\">\n      <g>\n       <use style=\"stroke:#000000;stroke-width:0.8;\" x=\"26.925\" xlink:href=\"#m23245771cf\" y=\"146.899219\"/>\n      </g>\n     </g>\n     <g id=\"text_12\">\n      <!-- 20 -->\n      <g transform=\"translate(7.2 150.698437)scale(0.1 -0.1)\">\n       <use xlink:href=\"#DejaVuSans-32\"/>\n       <use x=\"63.623047\" xlink:href=\"#DejaVuSans-30\"/>\n      </g>\n     </g>\n    </g>\n    <g id=\"ytick_6\">\n     <g id=\"line2d_13\">\n      <g>\n       <use style=\"stroke:#000000;stroke-width:0.8;\" x=\"26.925\" xlink:href=\"#m23245771cf\" y=\"180.874219\"/>\n      </g>\n     </g>\n     <g id=\"text_13\">\n      <!-- 25 -->\n      <g transform=\"translate(7.2 184.673437)scale(0.1 -0.1)\">\n       <use xlink:href=\"#DejaVuSans-32\"/>\n       <use x=\"63.623047\" xlink:href=\"#DejaVuSans-35\"/>\n      </g>\n     </g>\n    </g>\n    <g id=\"ytick_7\">\n     <g id=\"line2d_14\">\n      <g>\n       <use style=\"stroke:#000000;stroke-width:0.8;\" x=\"26.925\" xlink:href=\"#m23245771cf\" y=\"214.849219\"/>\n      </g>\n     </g>\n     <g id=\"text_14\">\n      <!-- 30 -->\n      <g transform=\"translate(7.2 218.648437)scale(0.1 -0.1)\">\n       <use xlink:href=\"#DejaVuSans-33\"/>\n       <use x=\"63.623047\" xlink:href=\"#DejaVuSans-30\"/>\n      </g>\n     </g>\n    </g>\n   </g>\n   <g id=\"patch_3\">\n    <path d=\"M 26.925 225.041719 \nL 26.925 7.601719 \n\" style=\"fill:none;stroke:#000000;stroke-linecap:square;stroke-linejoin:miter;stroke-width:0.8;\"/>\n   </g>\n   <g id=\"patch_4\">\n    <path d=\"M 244.365 225.041719 \nL 244.365 7.601719 \n\" style=\"fill:none;stroke:#000000;stroke-linecap:square;stroke-linejoin:miter;stroke-width:0.8;\"/>\n   </g>\n   <g id=\"patch_5\">\n    <path d=\"M 26.925 225.041719 \nL 244.365 225.041719 \n\" style=\"fill:none;stroke:#000000;stroke-linecap:square;stroke-linejoin:miter;stroke-width:0.8;\"/>\n   </g>\n   <g id=\"patch_6\">\n    <path d=\"M 26.925 7.601719 \nL 244.365 7.601719 \n\" style=\"fill:none;stroke:#000000;stroke-linecap:square;stroke-linejoin:miter;stroke-width:0.8;\"/>\n   </g>\n  </g>\n </g>\n <defs>\n  <clipPath id=\"p20e778042e\">\n   <rect height=\"217.44\" width=\"217.44\" x=\"26.925\" y=\"7.601719\"/>\n  </clipPath>\n </defs>\n</svg>\n",
      "image/png": "[encoded data removed]"
     },
     "metadata": {
      "needs_background": "light"
     }
    }
   ],
   "source": [
    "type, image_loaded = image_to_matrix(\"../chest_Xray/train/NORMAL/IM-0127-0001.jpeg\", 32)\n",
    "\n",
    "plt.imshow(image_loaded)"
   ]
  },
  {
   "source": [
    "### Function to load all images in a directory, that produces a tuple with 3 lists"
   ],
   "cell_type": "markdown",
   "metadata": {}
  },
  {
   "cell_type": "code",
   "execution_count": 6,
   "metadata": {},
   "outputs": [],
   "source": [
    "def load_dir(path, size):\n",
    "    images = []\n",
    "    labels = []\n",
    "    for file in os.listdir(path):\n",
    "        if '.jpeg' not in path + file:\n",
    "            continue\n",
    "        type, matrix = image_to_matrix(path + file, size)\n",
    "        labels.append(type)\n",
    "        images.append(matrix)\n",
    "    return labels, images"
   ]
  },
  {
   "source": [
    "### Final loading, produces a dataset with the training, test data. There are \"shape\" data who contains the image size"
   ],
   "cell_type": "markdown",
   "metadata": {}
  },
  {
   "cell_type": "code",
   "execution_count": 7,
   "metadata": {},
   "outputs": [],
   "source": [
    "def load_with_shuffle(paths, size):\n",
    "    images = []\n",
    "    labels = []\n",
    "    for path in paths:\n",
    "        ret_labels, ret_images = load_dir(path, size)\n",
    "        labels += ret_labels\n",
    "        images += ret_images\n",
    "\n",
    "    merged = list(zip(labels, images))\n",
    "    random.shuffle(merged)\n",
    "    return zip(*merged)"
   ]
  },
  {
   "cell_type": "code",
   "execution_count": 8,
   "metadata": {},
   "outputs": [],
   "source": [
    "image_size = 32\n",
    "\n",
    "path = \"../dataset.hdf5\"\n",
    "if os.path.exists(path):\n",
    "    os.unlink(path)\n",
    "\n",
    "f = h5py.File(path, \"w\")\n",
    "\n",
    "labels, images = load_with_shuffle([\"../chest_Xray/train/NORMAL/\", \"../chest_Xray/train/PNEUMONIA/\"], image_size)\n",
    "grp = f.create_group('train')\n",
    "grp.create_dataset('images', data=images)\n",
    "grp.create_dataset('labels', data=labels)\n",
    "\n",
    "labels, images = load_with_shuffle([\"../chest_Xray/test/NORMAL/\", \"../chest_Xray/test/PNEUMONIA/\"], image_size)\n",
    "grp = f.create_group('test')\n",
    "grp.create_dataset('images', data=images)\n",
    "grp.create_dataset('labels', data=labels)\n",
    "\n",
    "labels, images = load_with_shuffle([\"../chest_Xray/val/NORMAL/\", \"../chest_Xray/val/PNEUMONIA/\"], image_size)\n",
    "grp = f.create_group('val')\n",
    "grp.create_dataset('images', data=images)\n",
    "grp.create_dataset('labels', data=labels)\n",
    "\n",
    "shape_dts = f.create_dataset('shape', data=[image_size, image_size])\n",
    "\n",
    "f.close()"
   ]
  },
  {
   "source": [],
   "cell_type": "markdown",
   "metadata": {}
  }
 ],
 "metadata": {
  "kernelspec": {
   "name": "pythonjvsc74a57bd01eee70a0168bcf1a9fadbf77c2dfbe20cd3422c5e916c79f2f7b2ea9c86b4aca",
   "display_name": "Python 3.8.2  ('env': venv)"
  },
  "language_info": {
   "codemirror_mode": {
    "name": "ipython",
    "version": 3
   },
   "file_extension": ".py",
   "mimetype": "text/x-python",
   "name": "python",
   "nbconvert_exporter": "python",
   "pygments_lexer": "ipython3",
   "version": "3.8.2"
  },
  "metadata": {
   "interpreter": {
    "hash": "1eee70a0168bcf1a9fadbf77c2dfbe20cd3422c5e916c79f2f7b2ea9c86b4aca"
   }
  }
 },
 "nbformat": 4,
 "nbformat_minor": 5
}